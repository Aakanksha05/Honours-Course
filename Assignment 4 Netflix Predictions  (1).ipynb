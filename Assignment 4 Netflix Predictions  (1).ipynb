{
 "cells": [
  {
   "cell_type": "code",
   "execution_count": 1,
   "id": "adverse-nelson",
   "metadata": {},
   "outputs": [],
   "source": [
    "import numpy as np\n",
    "import pandas as pd\n",
    "import matplotlib.pyplot as plt\n",
    "import seaborn as sns\n",
    "\n",
    "netflix = pd.read_csv(r'/Users/aakanksha/Downloads/data_science_honors 2/data/netflix/netflix_titles.csv')"
   ]
  },
  {
   "cell_type": "code",
   "execution_count": 2,
   "id": "equivalent-genetics",
   "metadata": {},
   "outputs": [
    {
     "data": {
      "text/html": [
       "<div>\n",
       "<style scoped>\n",
       "    .dataframe tbody tr th:only-of-type {\n",
       "        vertical-align: middle;\n",
       "    }\n",
       "\n",
       "    .dataframe tbody tr th {\n",
       "        vertical-align: top;\n",
       "    }\n",
       "\n",
       "    .dataframe thead th {\n",
       "        text-align: right;\n",
       "    }\n",
       "</style>\n",
       "<table border=\"1\" class=\"dataframe\">\n",
       "  <thead>\n",
       "    <tr style=\"text-align: right;\">\n",
       "      <th></th>\n",
       "      <th>show_id</th>\n",
       "      <th>type</th>\n",
       "      <th>title</th>\n",
       "      <th>director</th>\n",
       "      <th>cast</th>\n",
       "      <th>country</th>\n",
       "      <th>date_added</th>\n",
       "      <th>release_year</th>\n",
       "      <th>rating</th>\n",
       "      <th>duration</th>\n",
       "      <th>listed_in</th>\n",
       "      <th>description</th>\n",
       "    </tr>\n",
       "  </thead>\n",
       "  <tbody>\n",
       "    <tr>\n",
       "      <th>6915</th>\n",
       "      <td>s6916</td>\n",
       "      <td>Movie</td>\n",
       "      <td>The Super Parental Guardians</td>\n",
       "      <td>Joyce Bernal</td>\n",
       "      <td>Vice Ganda, Coco Martin, Onyok Pineda, Awra Br...</td>\n",
       "      <td>Philippines</td>\n",
       "      <td>March 21, 2019</td>\n",
       "      <td>2016</td>\n",
       "      <td>TV-14</td>\n",
       "      <td>115 min</td>\n",
       "      <td>Action &amp; Adventure, Comedies, International Mo...</td>\n",
       "      <td>Following his best friend's death, Arci takes ...</td>\n",
       "    </tr>\n",
       "    <tr>\n",
       "      <th>7092</th>\n",
       "      <td>s7093</td>\n",
       "      <td>Movie</td>\n",
       "      <td>Tim Minchin: So F**king Rock</td>\n",
       "      <td>Matt Askem</td>\n",
       "      <td>Tim Minchin</td>\n",
       "      <td>United Kingdom</td>\n",
       "      <td>December 31, 2018</td>\n",
       "      <td>2008</td>\n",
       "      <td>TV-MA</td>\n",
       "      <td>127 min</td>\n",
       "      <td>Music &amp; Musicals, Stand-Up Comedy</td>\n",
       "      <td>Comedic pianist Tim Minchin performs a host of...</td>\n",
       "    </tr>\n",
       "    <tr>\n",
       "      <th>5215</th>\n",
       "      <td>s5216</td>\n",
       "      <td>TV Show</td>\n",
       "      <td>Ripper Street</td>\n",
       "      <td>NaN</td>\n",
       "      <td>Matthew Macfadyen, Jerome Flynn, Adam Rothenbe...</td>\n",
       "      <td>United Kingdom, Ireland</td>\n",
       "      <td>September 8, 2017</td>\n",
       "      <td>2017</td>\n",
       "      <td>TV-MA</td>\n",
       "      <td>5 Seasons</td>\n",
       "      <td>British TV Shows, Crime TV Shows, TV Dramas</td>\n",
       "      <td>It's been six months since the last Jack the R...</td>\n",
       "    </tr>\n",
       "    <tr>\n",
       "      <th>6689</th>\n",
       "      <td>s6690</td>\n",
       "      <td>Movie</td>\n",
       "      <td>The Motive</td>\n",
       "      <td>Manuel Martín Cuenca</td>\n",
       "      <td>Javier Gutiérrez, María León, Adelfa Calvo, Ad...</td>\n",
       "      <td>Spain, Mexico</td>\n",
       "      <td>August 17, 2018</td>\n",
       "      <td>2017</td>\n",
       "      <td>TV-MA</td>\n",
       "      <td>114 min</td>\n",
       "      <td>Comedies, Dramas, International Movies</td>\n",
       "      <td>An aspiring writer with no imagination seeks i...</td>\n",
       "    </tr>\n",
       "    <tr>\n",
       "      <th>2981</th>\n",
       "      <td>s2982</td>\n",
       "      <td>Movie</td>\n",
       "      <td>Incoming</td>\n",
       "      <td>Eric Zaragosa</td>\n",
       "      <td>Scott Adkins, Aaron McCusker, Vahldin Prelic, ...</td>\n",
       "      <td>Serbia, United States</td>\n",
       "      <td>October 26, 2018</td>\n",
       "      <td>2019</td>\n",
       "      <td>TV-MA</td>\n",
       "      <td>89 min</td>\n",
       "      <td>Action &amp; Adventure, Sci-Fi &amp; Fantasy</td>\n",
       "      <td>When an imprisoned terrorist cell hijacks a hi...</td>\n",
       "    </tr>\n",
       "  </tbody>\n",
       "</table>\n",
       "</div>"
      ],
      "text/plain": [
       "     show_id     type                         title              director  \\\n",
       "6915   s6916    Movie  The Super Parental Guardians          Joyce Bernal   \n",
       "7092   s7093    Movie  Tim Minchin: So F**king Rock            Matt Askem   \n",
       "5215   s5216  TV Show                 Ripper Street                   NaN   \n",
       "6689   s6690    Movie                    The Motive  Manuel Martín Cuenca   \n",
       "2981   s2982    Movie                      Incoming         Eric Zaragosa   \n",
       "\n",
       "                                                   cast  \\\n",
       "6915  Vice Ganda, Coco Martin, Onyok Pineda, Awra Br...   \n",
       "7092                                        Tim Minchin   \n",
       "5215  Matthew Macfadyen, Jerome Flynn, Adam Rothenbe...   \n",
       "6689  Javier Gutiérrez, María León, Adelfa Calvo, Ad...   \n",
       "2981  Scott Adkins, Aaron McCusker, Vahldin Prelic, ...   \n",
       "\n",
       "                      country         date_added  release_year rating  \\\n",
       "6915              Philippines     March 21, 2019          2016  TV-14   \n",
       "7092           United Kingdom  December 31, 2018          2008  TV-MA   \n",
       "5215  United Kingdom, Ireland  September 8, 2017          2017  TV-MA   \n",
       "6689            Spain, Mexico    August 17, 2018          2017  TV-MA   \n",
       "2981    Serbia, United States   October 26, 2018          2019  TV-MA   \n",
       "\n",
       "       duration                                          listed_in  \\\n",
       "6915    115 min  Action & Adventure, Comedies, International Mo...   \n",
       "7092    127 min                  Music & Musicals, Stand-Up Comedy   \n",
       "5215  5 Seasons        British TV Shows, Crime TV Shows, TV Dramas   \n",
       "6689    114 min             Comedies, Dramas, International Movies   \n",
       "2981     89 min               Action & Adventure, Sci-Fi & Fantasy   \n",
       "\n",
       "                                            description  \n",
       "6915  Following his best friend's death, Arci takes ...  \n",
       "7092  Comedic pianist Tim Minchin performs a host of...  \n",
       "5215  It's been six months since the last Jack the R...  \n",
       "6689  An aspiring writer with no imagination seeks i...  \n",
       "2981  When an imprisoned terrorist cell hijacks a hi...  "
      ]
     },
     "execution_count": 2,
     "metadata": {},
     "output_type": "execute_result"
    }
   ],
   "source": [
    "netflix.sample(5)"
   ]
  },
  {
   "cell_type": "code",
   "execution_count": 3,
   "id": "monthly-monitor",
   "metadata": {},
   "outputs": [
    {
     "data": {
      "text/plain": [
       "show_id            0\n",
       "type               0\n",
       "title              0\n",
       "director        2389\n",
       "cast             718\n",
       "country          507\n",
       "date_added        10\n",
       "release_year       0\n",
       "rating             7\n",
       "duration           0\n",
       "listed_in          0\n",
       "description        0\n",
       "dtype: int64"
      ]
     },
     "execution_count": 3,
     "metadata": {},
     "output_type": "execute_result"
    }
   ],
   "source": [
    "netflix.isnull().sum()"
   ]
  },
  {
   "cell_type": "code",
   "execution_count": 4,
   "id": "significant-breeding",
   "metadata": {},
   "outputs": [],
   "source": [
    "netflix.director.fillna(\"No Director\", inplace=True)\n",
    "netflix.cast.fillna(\"No Cast\", inplace=True)\n",
    "netflix.country.fillna(\"Country Unavailable\", inplace=True)\n",
    "netflix.dropna(subset=[\"date_added\", \"rating\"], inplace=True)"
   ]
  },
  {
   "cell_type": "code",
   "execution_count": 5,
   "id": "intended-cheat",
   "metadata": {},
   "outputs": [
    {
     "data": {
      "text/plain": [
       "show_id         0\n",
       "type            0\n",
       "title           0\n",
       "director        0\n",
       "cast            0\n",
       "country         0\n",
       "date_added      0\n",
       "release_year    0\n",
       "rating          0\n",
       "duration        0\n",
       "listed_in       0\n",
       "description     0\n",
       "dtype: int64"
      ]
     },
     "execution_count": 5,
     "metadata": {},
     "output_type": "execute_result"
    }
   ],
   "source": [
    "netflix.isnull().sum()"
   ]
  },
  {
   "cell_type": "code",
   "execution_count": 6,
   "id": "connected-value",
   "metadata": {},
   "outputs": [
    {
     "data": {
      "text/plain": [
       "show_id         7770\n",
       "type               2\n",
       "title           7770\n",
       "director        4048\n",
       "cast            6818\n",
       "country          682\n",
       "date_added      1563\n",
       "release_year      73\n",
       "rating            14\n",
       "duration         216\n",
       "listed_in        491\n",
       "description     7752\n",
       "dtype: int64"
      ]
     },
     "execution_count": 6,
     "metadata": {},
     "output_type": "execute_result"
    }
   ],
   "source": [
    "netflix.nunique()"
   ]
  },
  {
   "cell_type": "code",
   "execution_count": 7,
   "id": "satellite-polyester",
   "metadata": {},
   "outputs": [
    {
     "data": {
      "image/png": "[encoded data removed]",
      "text/plain": [
       "<Figure size 864x432 with 1 Axes>"
      ]
     },
     "metadata": {},
     "output_type": "display_data"
    }
   ],
   "source": [
    "plt.figure(figsize=(12,6))\n",
    "plt.title(\"Percentation of Netflix Titles that are either Movies or TV Shows\")\n",
    "g = plt.pie(netflix.type.value_counts(),explode=(0.025,0.025), labels=netflix.type.value_counts().index, colors=['blue','green'],autopct='%1.1f%%', startangle=180)\n",
    "plt.show()"
   ]
  },
  {
   "cell_type": "code",
   "execution_count": 8,
   "id": "yellow-architect",
   "metadata": {},
   "outputs": [
    {
     "data": {
      "text/html": [
       "<div>\n",
       "<style scoped>\n",
       "    .dataframe tbody tr th:only-of-type {\n",
       "        vertical-align: middle;\n",
       "    }\n",
       "\n",
       "    .dataframe tbody tr th {\n",
       "        vertical-align: top;\n",
       "    }\n",
       "\n",
       "    .dataframe thead th {\n",
       "        text-align: right;\n",
       "    }\n",
       "</style>\n",
       "<table border=\"1\" class=\"dataframe\">\n",
       "  <thead>\n",
       "    <tr style=\"text-align: right;\">\n",
       "      <th></th>\n",
       "      <th>show_id</th>\n",
       "      <th>type</th>\n",
       "      <th>title</th>\n",
       "      <th>director</th>\n",
       "      <th>cast</th>\n",
       "      <th>country</th>\n",
       "      <th>date_added</th>\n",
       "      <th>release_year</th>\n",
       "      <th>rating</th>\n",
       "      <th>duration</th>\n",
       "      <th>listed_in</th>\n",
       "      <th>description</th>\n",
       "    </tr>\n",
       "  </thead>\n",
       "  <tbody>\n",
       "    <tr>\n",
       "      <th>108</th>\n",
       "      <td>s109</td>\n",
       "      <td>TV Show</td>\n",
       "      <td>3Below: Tales of Arcadia</td>\n",
       "      <td>No Director</td>\n",
       "      <td>Tatiana Maslany, Diego Luna, Nick Offerman, Ni...</td>\n",
       "      <td>United States</td>\n",
       "      <td>July 12, 2019</td>\n",
       "      <td>2019</td>\n",
       "      <td>TV-Y7</td>\n",
       "      <td>2 Seasons</td>\n",
       "      <td>Kids' TV, TV Action &amp; Adventure, TV Sci-Fi &amp; F...</td>\n",
       "      <td>After crash-landing on Earth, two royal teen a...</td>\n",
       "    </tr>\n",
       "    <tr>\n",
       "      <th>111</th>\n",
       "      <td>s112</td>\n",
       "      <td>TV Show</td>\n",
       "      <td>44 Cats</td>\n",
       "      <td>No Director</td>\n",
       "      <td>Sarah Natochenny, Suzy Myers, Simona Berman, E...</td>\n",
       "      <td>Italy</td>\n",
       "      <td>October 1, 2020</td>\n",
       "      <td>2018</td>\n",
       "      <td>TV-Y7</td>\n",
       "      <td>2 Seasons</td>\n",
       "      <td>Kids' TV</td>\n",
       "      <td>Paw-esome tales abound when singing furry frie...</td>\n",
       "    </tr>\n",
       "    <tr>\n",
       "      <th>113</th>\n",
       "      <td>s114</td>\n",
       "      <td>Movie</td>\n",
       "      <td>48 Christmas Wishes</td>\n",
       "      <td>Marco Deufemia, Justin G. Dyck</td>\n",
       "      <td>Khiyla Aynne, Noah Dyer, Maya Franzoi, Clara K...</td>\n",
       "      <td>Canada</td>\n",
       "      <td>December 20, 2017</td>\n",
       "      <td>2017</td>\n",
       "      <td>TV-G</td>\n",
       "      <td>84 min</td>\n",
       "      <td>Children &amp; Family Movies, Comedies</td>\n",
       "      <td>When a small town's letters to Santa accidenta...</td>\n",
       "    </tr>\n",
       "    <tr>\n",
       "      <th>145</th>\n",
       "      <td>s146</td>\n",
       "      <td>Movie</td>\n",
       "      <td>A 2nd Chance</td>\n",
       "      <td>Clay Glen</td>\n",
       "      <td>Nina Pearce, Adam Tuominen, Emily Morris, Amy ...</td>\n",
       "      <td>Australia</td>\n",
       "      <td>July 1, 2017</td>\n",
       "      <td>2011</td>\n",
       "      <td>PG</td>\n",
       "      <td>95 min</td>\n",
       "      <td>Children &amp; Family Movies, Dramas, Sports Movies</td>\n",
       "      <td>A gymnast lacks the confidence she needs to re...</td>\n",
       "    </tr>\n",
       "    <tr>\n",
       "      <th>147</th>\n",
       "      <td>s148</td>\n",
       "      <td>Movie</td>\n",
       "      <td>A Babysitter's Guide to Monster Hunting</td>\n",
       "      <td>Rachel Talalay</td>\n",
       "      <td>Tamara Smart, Oona Laurence, Tom Felton, Troy ...</td>\n",
       "      <td>United States</td>\n",
       "      <td>October 15, 2020</td>\n",
       "      <td>2020</td>\n",
       "      <td>TV-PG</td>\n",
       "      <td>99 min</td>\n",
       "      <td>Children &amp; Family Movies</td>\n",
       "      <td>Recruited by a secret society of babysitters, ...</td>\n",
       "    </tr>\n",
       "  </tbody>\n",
       "</table>\n",
       "</div>"
      ],
      "text/plain": [
       "    show_id     type                                    title  \\\n",
       "108    s109  TV Show                 3Below: Tales of Arcadia   \n",
       "111    s112  TV Show                                  44 Cats   \n",
       "113    s114    Movie                      48 Christmas Wishes   \n",
       "145    s146    Movie                             A 2nd Chance   \n",
       "147    s148    Movie  A Babysitter's Guide to Monster Hunting   \n",
       "\n",
       "                           director  \\\n",
       "108                     No Director   \n",
       "111                     No Director   \n",
       "113  Marco Deufemia, Justin G. Dyck   \n",
       "145                       Clay Glen   \n",
       "147                  Rachel Talalay   \n",
       "\n",
       "                                                  cast        country  \\\n",
       "108  Tatiana Maslany, Diego Luna, Nick Offerman, Ni...  United States   \n",
       "111  Sarah Natochenny, Suzy Myers, Simona Berman, E...          Italy   \n",
       "113  Khiyla Aynne, Noah Dyer, Maya Franzoi, Clara K...         Canada   \n",
       "145  Nina Pearce, Adam Tuominen, Emily Morris, Amy ...      Australia   \n",
       "147  Tamara Smart, Oona Laurence, Tom Felton, Troy ...  United States   \n",
       "\n",
       "            date_added  release_year rating   duration  \\\n",
       "108      July 12, 2019          2019  TV-Y7  2 Seasons   \n",
       "111    October 1, 2020          2018  TV-Y7  2 Seasons   \n",
       "113  December 20, 2017          2017   TV-G     84 min   \n",
       "145       July 1, 2017          2011     PG     95 min   \n",
       "147   October 15, 2020          2020  TV-PG     99 min   \n",
       "\n",
       "                                             listed_in  \\\n",
       "108  Kids' TV, TV Action & Adventure, TV Sci-Fi & F...   \n",
       "111                                           Kids' TV   \n",
       "113                 Children & Family Movies, Comedies   \n",
       "145    Children & Family Movies, Dramas, Sports Movies   \n",
       "147                           Children & Family Movies   \n",
       "\n",
       "                                           description  \n",
       "108  After crash-landing on Earth, two royal teen a...  \n",
       "111  Paw-esome tales abound when singing furry frie...  \n",
       "113  When a small town's letters to Santa accidenta...  \n",
       "145  A gymnast lacks the confidence she needs to re...  \n",
       "147  Recruited by a secret society of babysitters, ...  "
      ]
     },
     "execution_count": 8,
     "metadata": {},
     "output_type": "execute_result"
    }
   ],
   "source": [
    "kids_movies = netflix['listed_in'].str.contains('Children & Family Movies', case=False, regex=False)\n",
    "kids_tv = netflix['listed_in'].str.contains(\"Kids' TV\", case=False, regex=False)\n",
    "\n",
    "df_kids = netflix[kids_movies | kids_tv]\n",
    "df_kids.head()"
   ]
  },
  {
   "cell_type": "code",
   "execution_count": 9,
   "id": "better-effort",
   "metadata": {},
   "outputs": [
    {
     "data": {
      "text/plain": [
       "Movie      532\n",
       "TV Show    411\n",
       "Name: type, dtype: int64"
      ]
     },
     "execution_count": 9,
     "metadata": {},
     "output_type": "execute_result"
    },
    {
     "data": {
      "image/png": "[encoded data removed]",
      "text/plain": [
       "<Figure size 432x288 with 1 Axes>"
      ]
     },
     "metadata": {
      "needs_background": "light"
     },
     "output_type": "display_data"
    }
   ],
   "source": [
    "plot = sns.countplot(x=\"type\", data=df_kids)\n",
    "df_kids[\"type\"].value_counts()"
   ]
  },
  {
   "cell_type": "code",
   "execution_count": 10,
   "id": "earlier-frequency",
   "metadata": {},
   "outputs": [
    {
     "data": {
      "image/png": "[encoded data removed]",
      "text/plain": [
       "<Figure size 720x720 with 1 Axes>"
      ]
     },
     "metadata": {
      "needs_background": "light"
     },
     "output_type": "display_data"
    }
   ],
   "source": [
    "filtered_genres = netflix.set_index('title').listed_in.str.split(', ', expand=True).stack().reset_index(level=1, drop=True);\n",
    "plt.figure(figsize=(10,10))\n",
    "g = sns.countplot(y = filtered_genres, order=filtered_genres.value_counts().index[:20])\n",
    "plt.title('Top 20 Genres on Netflix')\n",
    "plt.xlabel('Titles')\n",
    "plt.ylabel('Genres')\n",
    "plt.show()"
   ]
  },
  {
   "cell_type": "code",
   "execution_count": 11,
   "id": "patient-centre",
   "metadata": {},
   "outputs": [
    {
     "data": {
      "text/html": [
       "<div>\n",
       "<style scoped>\n",
       "    .dataframe tbody tr th:only-of-type {\n",
       "        vertical-align: middle;\n",
       "    }\n",
       "\n",
       "    .dataframe tbody tr th {\n",
       "        vertical-align: top;\n",
       "    }\n",
       "\n",
       "    .dataframe thead th {\n",
       "        text-align: right;\n",
       "    }\n",
       "</style>\n",
       "<table border=\"1\" class=\"dataframe\">\n",
       "  <thead>\n",
       "    <tr style=\"text-align: right;\">\n",
       "      <th></th>\n",
       "      <th>show_id</th>\n",
       "      <th>type</th>\n",
       "      <th>title</th>\n",
       "      <th>director</th>\n",
       "      <th>cast</th>\n",
       "      <th>country</th>\n",
       "      <th>date_added</th>\n",
       "      <th>release_year</th>\n",
       "      <th>rating</th>\n",
       "      <th>duration</th>\n",
       "      <th>listed_in</th>\n",
       "      <th>description</th>\n",
       "    </tr>\n",
       "  </thead>\n",
       "  <tbody>\n",
       "    <tr>\n",
       "      <th>197</th>\n",
       "      <td>s198</td>\n",
       "      <td>TV Show</td>\n",
       "      <td>A Little Help with Carol Burnett</td>\n",
       "      <td>No Director</td>\n",
       "      <td>Carol Burnett, Russell Peters, Mark Cuban, Tar...</td>\n",
       "      <td>United States</td>\n",
       "      <td>May 4, 2018</td>\n",
       "      <td>2018</td>\n",
       "      <td>TV-G</td>\n",
       "      <td>1 Season</td>\n",
       "      <td>Stand-Up Comedy &amp; Talk Shows, TV Comedies</td>\n",
       "      <td>Comedy icon Carol Burnett returns to TV with a...</td>\n",
       "    </tr>\n",
       "    <tr>\n",
       "      <th>220</th>\n",
       "      <td>s221</td>\n",
       "      <td>Movie</td>\n",
       "      <td>A Russell Peters Christmas</td>\n",
       "      <td>Henry Sarwer-Foner</td>\n",
       "      <td>Russell Peters, Pamela Anderson, Michael Bublé...</td>\n",
       "      <td>Canada</td>\n",
       "      <td>November 1, 2013</td>\n",
       "      <td>2011</td>\n",
       "      <td>NR</td>\n",
       "      <td>44 min</td>\n",
       "      <td>Stand-Up Comedy</td>\n",
       "      <td>Inspired by the variety shows of the 1970s, \"A...</td>\n",
       "    </tr>\n",
       "    <tr>\n",
       "      <th>284</th>\n",
       "      <td>s285</td>\n",
       "      <td>TV Show</td>\n",
       "      <td>Abnormal Summit</td>\n",
       "      <td>Jung-ah Im, Seung-uk Jo</td>\n",
       "      <td>Hyun-moo Jun, Si-kyung Sung, Se-yoon Yoo</td>\n",
       "      <td>South Korea</td>\n",
       "      <td>August 4, 2017</td>\n",
       "      <td>2017</td>\n",
       "      <td>TV-PG</td>\n",
       "      <td>2 Seasons</td>\n",
       "      <td>International TV Shows, Korean TV Shows, Stand...</td>\n",
       "      <td>Led by a trio of Korean celebs, a multinationa...</td>\n",
       "    </tr>\n",
       "    <tr>\n",
       "      <th>305</th>\n",
       "      <td>s306</td>\n",
       "      <td>Movie</td>\n",
       "      <td>Adam Devine: Best Time of Our Lives</td>\n",
       "      <td>Jay Karas</td>\n",
       "      <td>Adam Devine</td>\n",
       "      <td>United States</td>\n",
       "      <td>June 18, 2019</td>\n",
       "      <td>2019</td>\n",
       "      <td>TV-MA</td>\n",
       "      <td>59 min</td>\n",
       "      <td>Stand-Up Comedy</td>\n",
       "      <td>Frenetic comic Adam Devine talks teen awkwardn...</td>\n",
       "    </tr>\n",
       "    <tr>\n",
       "      <th>307</th>\n",
       "      <td>s308</td>\n",
       "      <td>Movie</td>\n",
       "      <td>ADAM SANDLER 100% FRESH</td>\n",
       "      <td>Steve Brill</td>\n",
       "      <td>Adam Sandler</td>\n",
       "      <td>United States</td>\n",
       "      <td>October 23, 2018</td>\n",
       "      <td>2018</td>\n",
       "      <td>TV-MA</td>\n",
       "      <td>74 min</td>\n",
       "      <td>Stand-Up Comedy</td>\n",
       "      <td>From \"Heroes\" to \"Ice Cream Ladies\" – Adam San...</td>\n",
       "    </tr>\n",
       "  </tbody>\n",
       "</table>\n",
       "</div>"
      ],
      "text/plain": [
       "    show_id     type                                title  \\\n",
       "197    s198  TV Show     A Little Help with Carol Burnett   \n",
       "220    s221    Movie           A Russell Peters Christmas   \n",
       "284    s285  TV Show                      Abnormal Summit   \n",
       "305    s306    Movie  Adam Devine: Best Time of Our Lives   \n",
       "307    s308    Movie              ADAM SANDLER 100% FRESH   \n",
       "\n",
       "                    director  \\\n",
       "197              No Director   \n",
       "220       Henry Sarwer-Foner   \n",
       "284  Jung-ah Im, Seung-uk Jo   \n",
       "305                Jay Karas   \n",
       "307              Steve Brill   \n",
       "\n",
       "                                                  cast        country  \\\n",
       "197  Carol Burnett, Russell Peters, Mark Cuban, Tar...  United States   \n",
       "220  Russell Peters, Pamela Anderson, Michael Bublé...         Canada   \n",
       "284           Hyun-moo Jun, Si-kyung Sung, Se-yoon Yoo    South Korea   \n",
       "305                                        Adam Devine  United States   \n",
       "307                                       Adam Sandler  United States   \n",
       "\n",
       "           date_added  release_year rating   duration  \\\n",
       "197       May 4, 2018          2018   TV-G   1 Season   \n",
       "220  November 1, 2013          2011     NR     44 min   \n",
       "284    August 4, 2017          2017  TV-PG  2 Seasons   \n",
       "305     June 18, 2019          2019  TV-MA     59 min   \n",
       "307  October 23, 2018          2018  TV-MA     74 min   \n",
       "\n",
       "                                             listed_in  \\\n",
       "197          Stand-Up Comedy & Talk Shows, TV Comedies   \n",
       "220                                    Stand-Up Comedy   \n",
       "284  International TV Shows, Korean TV Shows, Stand...   \n",
       "305                                    Stand-Up Comedy   \n",
       "307                                    Stand-Up Comedy   \n",
       "\n",
       "                                           description  \n",
       "197  Comedy icon Carol Burnett returns to TV with a...  \n",
       "220  Inspired by the variety shows of the 1970s, \"A...  \n",
       "284  Led by a trio of Korean celebs, a multinationa...  \n",
       "305  Frenetic comic Adam Devine talks teen awkwardn...  \n",
       "307  From \"Heroes\" to \"Ice Cream Ladies\" – Adam San...  "
      ]
     },
     "execution_count": 11,
     "metadata": {},
     "output_type": "execute_result"
    }
   ],
   "source": [
    "standup = netflix['listed_in'].str.contains(\"Stand-Up Comedy\", case=False, regex=False)\n",
    "\n",
    "df_standup = netflix[standup]\n",
    "df_standup.head()"
   ]
  },
  {
   "cell_type": "code",
   "execution_count": 12,
   "id": "three-large",
   "metadata": {},
   "outputs": [
    {
     "data": {
      "text/plain": [
       "<AxesSubplot:xlabel='rating', ylabel='count'>"
      ]
     },
     "execution_count": 12,
     "metadata": {},
     "output_type": "execute_result"
    },
    {
     "data": {
      "image/png": "[encoded data removed]",
      "text/plain": [
       "<Figure size 864x720 with 1 Axes>"
      ]
     },
     "metadata": {
      "needs_background": "light"
     },
     "output_type": "display_data"
    }
   ],
   "source": [
    "plt.figure(figsize=(12,10))\n",
    "sns.countplot(x=\"rating\", data = netflix, palette = \"Set1\", order = netflix['rating'].value_counts().index[0:15])"
   ]
  },
  {
   "cell_type": "code",
   "execution_count": null,
   "id": "latin-banking",
   "metadata": {},
   "outputs": [],
   "source": []
  }
 ],
 "metadata": {
  "kernelspec": {
   "display_name": "Python 3",
   "language": "python",
   "name": "python3"
  },
  "language_info": {
   "codemirror_mode": {
    "name": "ipython",
    "version": 3
   },
   "file_extension": ".py",
   "mimetype": "text/x-python",
   "name": "python",
   "nbconvert_exporter": "python",
   "pygments_lexer": "ipython3",
   "version": "3.9.2"
  }
 },
 "nbformat": 4,
 "nbformat_minor": 5
}
